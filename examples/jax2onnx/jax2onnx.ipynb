{
 "cells": [
  {
   "cell_type": "code",
   "execution_count": 1,
   "id": "fdfa3eb4-1758-4634-b398-cdc3c4c5d7ae",
   "metadata": {},
   "outputs": [],
   "source": [
    "# This example successfully demonstrates the conversion of JAX functions to TensorFlow and subsequently to ONNX, \n",
    "# using TensorFlow's tf2onnx tool for ONNX export and ONNX Runtime for inference. \n",
    "\n",
    "from jax.experimental import jax2tf\n",
    "from jax import numpy as jnp\n",
    "\n",
    "import numpy as np\n",
    "import tensorflow as tf\n",
    "\n",
    "import onnx\n",
    "import tf2onnx\n",
    "import onnxruntime as ort\n"
   ]
  },
  {
   "cell_type": "code",
   "execution_count": 2,
   "id": "24b46f73-a24a-4843-93e8-f884f9f691de",
   "metadata": {},
   "outputs": [],
   "source": [
    "# Define JAX functions\n",
    "def f_jax1(x):\n",
    "    return jnp.sin(x)\n",
    "\n",
    "def f_jax2(x):\n",
    "    return jnp.cos(x)\n",
    "\n"
   ]
  },
  {
   "cell_type": "code",
   "execution_count": 3,
   "id": "84121536-593c-48ae-ba36-5a475a8e69b5",
   "metadata": {},
   "outputs": [],
   "source": [
    "# Convert JAX functions to TensorFlow functions\n",
    "# enable_xla is set to False to ensure that XLA compilation is disabled for compatibility with tf2onnx\n",
    "f_tf1 = jax2tf.convert(f_jax1, enable_xla=False)\n",
    "f_tf2 = jax2tf.convert(f_jax2, enable_xla=False)\n",
    "\n",
    "# Define a higher-level function that combines the individual functions\n",
    "def combined_function(x):\n",
    "    y1 = f_tf1(x)\n",
    "    y2 = f_tf2(x)\n",
    "    return y1 + y2\n",
    "\n",
    "# Convert the combined function to a TensorFlow graph\n",
    "combined_function_graph = tf.function(combined_function, autograph=False)\n",
    "\n",
    "#print(combined_function_graph.get_concrete_function(tf.constant(1)).graph.as_graph_def())\n"
   ]
  },
  {
   "cell_type": "code",
   "execution_count": 4,
   "id": "76b78f63-c385-45b6-b741-6b6ad77d38a5",
   "metadata": {},
   "outputs": [
    {
     "name": "stdout",
     "output_type": "stream",
     "text": [
      "Input:\n",
      "[[0.8283861  0.26919276 0.6401985 ]]\n",
      "Output from TensorFlow:\n",
      "tf.Tensor([[1.4129071 1.2299392 1.3993318]], shape=(1, 3), dtype=float32)\n",
      "Output from ONNX Runtime:\n",
      "[[1.4129071 1.2299392 1.3993318]]\n"
     ]
    }
   ],
   "source": [
    "# Export the module to ONNX\n",
    "inference_onnx, _ = tf2onnx.convert.from_function(combined_function_graph, input_signature=[tf.TensorSpec([1, 3])])\n",
    "\n",
    "onnx_model_path = \"combined_model.onnx\"\n",
    "with open(onnx_model_path, \"wb\") as f:\n",
    "    f.write(inference_onnx.SerializeToString())\n",
    "\n",
    "# Load the ONNX model with ONNX Runtime\n",
    "ort_session = ort.InferenceSession(onnx_model_path)\n",
    "\n",
    "# Prepare the input for ONNX Runtime\n",
    "input_name = ort_session.get_inputs()[0].name\n",
    "output_name = ort_session.get_outputs()[0].name\n",
    "\n",
    "# Test the combined function with a NumPy array\n",
    "sample_input = np.random.random((1, 3)).astype(np.float32)  # Example input\n",
    "\n",
    "# Perform inference with ONNX Runtime\n",
    "onnx_input = sample_input\n",
    "onnx_output = ort_session.run([output_name], {input_name: onnx_input})[0]\n",
    "\n",
    "# Display the results\n",
    "print(\"Input:\")\n",
    "print(sample_input)\n",
    "print(\"Output from TensorFlow:\")\n",
    "print(combined_function_graph(sample_input))\n",
    "print(\"Output from ONNX Runtime:\")\n",
    "print(onnx_output)"
   ]
  },
  {
   "cell_type": "code",
   "execution_count": 5,
   "id": "b74babbd-75fd-4821-bd1f-52f47bd74b66",
   "metadata": {},
   "outputs": [
    {
     "name": "stdout",
     "output_type": "stream",
     "text": [
      "Serving 'combined_model.onnx' at http://localhost:8081\n"
     ]
    },
    {
     "data": {
      "text/plain": [
       "('localhost', 8081)"
      ]
     },
     "execution_count": 5,
     "metadata": {},
     "output_type": "execute_result"
    }
   ],
   "source": [
    "import netron\n",
    "netron.start(onnx_model_path)"
   ]
  },
  {
   "cell_type": "code",
   "execution_count": 5,
   "id": "55215f4a-906e-4aea-b40a-f9721c7b5b6c",
   "metadata": {},
   "outputs": [
    {
     "name": "stdout",
     "output_type": "stream",
     "text": [
      "Input:\n",
      "[[0.5753632  0.6161297  0.90586555]]\n",
      "Output from TensorFlow:\n",
      "tf.Tensor([[1.3831344 1.394002  1.403964 ]], shape=(1, 3), dtype=float32)\n",
      "Output from ONNX Runtime:\n",
      "[[1.3831344 1.394002  1.403964 ]]\n"
     ]
    }
   ],
   "source": [
    "# In this case, a TF.Module is employed to organize the variables\n",
    "class CombinedModule(tf.Module):\n",
    "    def __init__(self):\n",
    "        super().__init__()\n",
    "\n",
    "        # Convert JAX functions to TensorFlow functions\n",
    "        self.f_tf1 = jax2tf.convert(f_jax1, enable_xla=False)\n",
    "        self.f_tf2 = jax2tf.convert(f_jax2, enable_xla=False)\n",
    "\n",
    "    @tf.function(input_signature=[tf.TensorSpec([1, 3], dtype=tf.float32)])\n",
    "    def combined_function(self, x):\n",
    "        y1 = self.f_tf1(x)\n",
    "        y2 = self.f_tf2(x)\n",
    "        return y1 + y2\n",
    "\n",
    "\n",
    "# Example usage:\n",
    "# Create an instance of CombinedModule\n",
    "combined_module = CombinedModule()\n",
    "\n",
    "# Test the combined function with a NumPy array\n",
    "result_tf = combined_module.combined_function(sample_input)\n",
    "\n",
    "# Export the module to ONNX\n",
    "inference_onnx, _ = tf2onnx.convert.from_function(\n",
    "    combined_module.combined_function,\n",
    "    input_signature=[tf.TensorSpec([1, 3], dtype=tf.float32)],\n",
    "    opset=13\n",
    ")\n",
    "\n",
    "onnx_model_path = \"combined_model2.onnx\"\n",
    "with open(onnx_model_path, \"wb\") as f:\n",
    "    f.write(inference_onnx.SerializeToString())\n",
    "\n",
    "# Load the ONNX model with ONNX Runtime\n",
    "ort_session = ort.InferenceSession(onnx_model_path)\n",
    "\n",
    "# Perform inference with ONNX Runtime\n",
    "onnx_output = ort_session.run(None, {ort_session.get_inputs()[0].name: sample_input})[0]\n",
    "\n",
    "# Display the results\n",
    "print(\"Input:\")\n",
    "print(sample_input)\n",
    "print(\"Output from TensorFlow:\")\n",
    "print(result_tf)\n",
    "print(\"Output from ONNX Runtime:\")\n",
    "print(onnx_output)\n"
   ]
  },
  {
   "cell_type": "code",
   "execution_count": 60,
   "id": "9dba4ae8-2249-4fb9-ba45-541234b4aec2",
   "metadata": {},
   "outputs": [
    {
     "name": "stdout",
     "output_type": "stream",
     "text": [
      "[Traced<ShapedArray(int32[])>with<TensorFlowTrace(level=0/1)> with\n",
      "  val = <tf.Tensor 'jax2tf_arg_2:0' shape=() dtype=int32>\n",
      "  _aval = ShapedArray(int32[]), Traced<ShapedArray(int32[])>with<TensorFlowTrace(level=0/1)> with\n",
      "  val = <tf.Tensor 'jax2tf_arg_3:0' shape=() dtype=int32>\n",
      "  _aval = ShapedArray(int32[])]\n",
      "Traced<ShapedArray(int32[])>with<TensorFlowTrace(level=0/1)> with\n",
      "  val = <tf.Tensor 'jax2tf_arg_2:0' shape=() dtype=int32>\n",
      "  _aval = ShapedArray(int32[])\n"
     ]
    },
    {
     "ename": "TracerIntegerConversionError",
     "evalue": "The __index__() method was called on traced array with shape int32[].\nSee https://jax.readthedocs.io/en/latest/errors.html#jax.errors.TracerIntegerConversionError",
     "output_type": "error",
     "traceback": [
      "\u001b[0;31m---------------------------------------------------------------------------\u001b[0m",
      "\u001b[0;31mTracerIntegerConversionError\u001b[0m              Traceback (most recent call last)",
      "Cell \u001b[0;32mIn[60], line 24\u001b[0m\n\u001b[1;32m     17\u001b[0m input_signature \u001b[38;5;241m=\u001b[39m [\n\u001b[1;32m     18\u001b[0m         [tf\u001b[38;5;241m.\u001b[39mTensorSpec(shape\u001b[38;5;241m=\u001b[39m(\u001b[38;5;241m3\u001b[39m), dtype\u001b[38;5;241m=\u001b[39mtf\u001b[38;5;241m.\u001b[39mfloat32), tf\u001b[38;5;241m.\u001b[39mTensorSpec(shape\u001b[38;5;241m=\u001b[39m(\u001b[38;5;241m3\u001b[39m), dtype\u001b[38;5;241m=\u001b[39mtf\u001b[38;5;241m.\u001b[39mfloat32)], \n\u001b[1;32m     19\u001b[0m         [\u001b[38;5;241m0\u001b[39m, \u001b[38;5;241m1\u001b[39m], \n\u001b[1;32m     20\u001b[0m         \u001b[38;5;66;03m#tf.TensorSpec([3], dtype=tf.int32),  \u001b[39;00m\n\u001b[1;32m     21\u001b[0m     ]\n\u001b[1;32m     23\u001b[0m \u001b[38;5;66;03m# Export the module to ONNX\u001b[39;00m\n\u001b[0;32m---> 24\u001b[0m inference_onnx, _ \u001b[38;5;241m=\u001b[39m \u001b[43mtf2onnx\u001b[49m\u001b[38;5;241;43m.\u001b[39;49m\u001b[43mconvert\u001b[49m\u001b[38;5;241;43m.\u001b[39;49m\u001b[43mfrom_function\u001b[49m\u001b[43m(\u001b[49m\u001b[43mfunction_graph\u001b[49m\u001b[43m,\u001b[49m\u001b[43m \u001b[49m\u001b[43minput_signature\u001b[49m\u001b[38;5;241;43m=\u001b[39;49m\u001b[43minput_signature\u001b[49m\u001b[43m)\u001b[49m\n\u001b[1;32m     26\u001b[0m onnx_model_path \u001b[38;5;241m=\u001b[39m \u001b[38;5;124m\"\u001b[39m\u001b[38;5;124mtrial.onnx\u001b[39m\u001b[38;5;124m\"\u001b[39m\n\u001b[1;32m     27\u001b[0m \u001b[38;5;28;01mwith\u001b[39;00m \u001b[38;5;28mopen\u001b[39m(onnx_model_path, \u001b[38;5;124m\"\u001b[39m\u001b[38;5;124mwb\u001b[39m\u001b[38;5;124m\"\u001b[39m) \u001b[38;5;28;01mas\u001b[39;00m f:\n",
      "File \u001b[0;32m~/experiments/jax2onnx/env/lib/python3.11/site-packages/tf2onnx/convert.py:557\u001b[0m, in \u001b[0;36mfrom_function\u001b[0;34m(function, input_signature, opset, custom_ops, custom_op_handlers, custom_rewriter, inputs_as_nchw, outputs_as_nchw, extra_opset, shape_override, target, large_model, output_path)\u001b[0m\n\u001b[1;32m    554\u001b[0m \u001b[38;5;28;01mif\u001b[39;00m input_signature \u001b[38;5;129;01mis\u001b[39;00m \u001b[38;5;28;01mNone\u001b[39;00m:\n\u001b[1;32m    555\u001b[0m     \u001b[38;5;28;01mraise\u001b[39;00m \u001b[38;5;167;01mValueError\u001b[39;00m(\u001b[38;5;124m\"\u001b[39m\u001b[38;5;124mfrom_function requires input_signature\u001b[39m\u001b[38;5;124m\"\u001b[39m)\n\u001b[0;32m--> 557\u001b[0m concrete_func \u001b[38;5;241m=\u001b[39m \u001b[43mfunction\u001b[49m\u001b[38;5;241;43m.\u001b[39;49m\u001b[43mget_concrete_function\u001b[49m\u001b[43m(\u001b[49m\u001b[38;5;241;43m*\u001b[39;49m\u001b[43minput_signature\u001b[49m\u001b[43m)\u001b[49m\n\u001b[1;32m    559\u001b[0m input_names \u001b[38;5;241m=\u001b[39m [input_tensor\u001b[38;5;241m.\u001b[39mname \u001b[38;5;28;01mfor\u001b[39;00m input_tensor \u001b[38;5;129;01min\u001b[39;00m concrete_func\u001b[38;5;241m.\u001b[39minputs\n\u001b[1;32m    560\u001b[0m                \u001b[38;5;28;01mif\u001b[39;00m input_tensor\u001b[38;5;241m.\u001b[39mdtype \u001b[38;5;241m!=\u001b[39m tf\u001b[38;5;241m.\u001b[39mdtypes\u001b[38;5;241m.\u001b[39mresource]\n\u001b[1;32m    561\u001b[0m output_names \u001b[38;5;241m=\u001b[39m [output_tensor\u001b[38;5;241m.\u001b[39mname \u001b[38;5;28;01mfor\u001b[39;00m output_tensor \u001b[38;5;129;01min\u001b[39;00m concrete_func\u001b[38;5;241m.\u001b[39moutputs\n\u001b[1;32m    562\u001b[0m                 \u001b[38;5;28;01mif\u001b[39;00m output_tensor\u001b[38;5;241m.\u001b[39mdtype \u001b[38;5;241m!=\u001b[39m tf\u001b[38;5;241m.\u001b[39mdtypes\u001b[38;5;241m.\u001b[39mresource]\n",
      "File \u001b[0;32m~/experiments/jax2onnx/env/lib/python3.11/site-packages/tensorflow/python/eager/polymorphic_function/polymorphic_function.py:1251\u001b[0m, in \u001b[0;36mFunction.get_concrete_function\u001b[0;34m(self, *args, **kwargs)\u001b[0m\n\u001b[1;32m   1249\u001b[0m \u001b[38;5;28;01mdef\u001b[39;00m \u001b[38;5;21mget_concrete_function\u001b[39m(\u001b[38;5;28mself\u001b[39m, \u001b[38;5;241m*\u001b[39margs, \u001b[38;5;241m*\u001b[39m\u001b[38;5;241m*\u001b[39mkwargs):\n\u001b[1;32m   1250\u001b[0m   \u001b[38;5;66;03m# Implements PolymorphicFunction.get_concrete_function.\u001b[39;00m\n\u001b[0;32m-> 1251\u001b[0m   concrete \u001b[38;5;241m=\u001b[39m \u001b[38;5;28;43mself\u001b[39;49m\u001b[38;5;241;43m.\u001b[39;49m\u001b[43m_get_concrete_function_garbage_collected\u001b[49m\u001b[43m(\u001b[49m\u001b[38;5;241;43m*\u001b[39;49m\u001b[43margs\u001b[49m\u001b[43m,\u001b[49m\u001b[43m \u001b[49m\u001b[38;5;241;43m*\u001b[39;49m\u001b[38;5;241;43m*\u001b[39;49m\u001b[43mkwargs\u001b[49m\u001b[43m)\u001b[49m\n\u001b[1;32m   1252\u001b[0m   concrete\u001b[38;5;241m.\u001b[39m_garbage_collector\u001b[38;5;241m.\u001b[39mrelease()  \u001b[38;5;66;03m# pylint: disable=protected-access\u001b[39;00m\n\u001b[1;32m   1253\u001b[0m   \u001b[38;5;28;01mreturn\u001b[39;00m concrete\n",
      "File \u001b[0;32m~/experiments/jax2onnx/env/lib/python3.11/site-packages/tensorflow/python/eager/polymorphic_function/polymorphic_function.py:1221\u001b[0m, in \u001b[0;36mFunction._get_concrete_function_garbage_collected\u001b[0;34m(self, *args, **kwargs)\u001b[0m\n\u001b[1;32m   1219\u001b[0m   \u001b[38;5;28;01mif\u001b[39;00m \u001b[38;5;28mself\u001b[39m\u001b[38;5;241m.\u001b[39m_variable_creation_config \u001b[38;5;129;01mis\u001b[39;00m \u001b[38;5;28;01mNone\u001b[39;00m:\n\u001b[1;32m   1220\u001b[0m     initializers \u001b[38;5;241m=\u001b[39m []\n\u001b[0;32m-> 1221\u001b[0m     \u001b[38;5;28;43mself\u001b[39;49m\u001b[38;5;241;43m.\u001b[39;49m\u001b[43m_initialize\u001b[49m\u001b[43m(\u001b[49m\u001b[43margs\u001b[49m\u001b[43m,\u001b[49m\u001b[43m \u001b[49m\u001b[43mkwargs\u001b[49m\u001b[43m,\u001b[49m\u001b[43m \u001b[49m\u001b[43madd_initializers_to\u001b[49m\u001b[38;5;241;43m=\u001b[39;49m\u001b[43minitializers\u001b[49m\u001b[43m)\u001b[49m\n\u001b[1;32m   1222\u001b[0m     \u001b[38;5;28mself\u001b[39m\u001b[38;5;241m.\u001b[39m_initialize_uninitialized_variables(initializers)\n\u001b[1;32m   1224\u001b[0m \u001b[38;5;28;01mif\u001b[39;00m \u001b[38;5;28mself\u001b[39m\u001b[38;5;241m.\u001b[39m_created_variables:\n\u001b[1;32m   1225\u001b[0m   \u001b[38;5;66;03m# In this case we have created variables on the first call, so we run the\u001b[39;00m\n\u001b[1;32m   1226\u001b[0m   \u001b[38;5;66;03m# version which is guaranteed to never create variables.\u001b[39;00m\n",
      "File \u001b[0;32m~/experiments/jax2onnx/env/lib/python3.11/site-packages/tensorflow/python/eager/polymorphic_function/polymorphic_function.py:696\u001b[0m, in \u001b[0;36mFunction._initialize\u001b[0;34m(self, args, kwds, add_initializers_to)\u001b[0m\n\u001b[1;32m    691\u001b[0m \u001b[38;5;28mself\u001b[39m\u001b[38;5;241m.\u001b[39m_variable_creation_config \u001b[38;5;241m=\u001b[39m \u001b[38;5;28mself\u001b[39m\u001b[38;5;241m.\u001b[39m_generate_scoped_tracing_options(\n\u001b[1;32m    692\u001b[0m     variable_capturing_scope,\n\u001b[1;32m    693\u001b[0m     tracing_compilation\u001b[38;5;241m.\u001b[39mScopeType\u001b[38;5;241m.\u001b[39mVARIABLE_CREATION,\n\u001b[1;32m    694\u001b[0m )\n\u001b[1;32m    695\u001b[0m \u001b[38;5;66;03m# Force the definition of the function for these arguments\u001b[39;00m\n\u001b[0;32m--> 696\u001b[0m \u001b[38;5;28mself\u001b[39m\u001b[38;5;241m.\u001b[39m_concrete_variable_creation_fn \u001b[38;5;241m=\u001b[39m \u001b[43mtracing_compilation\u001b[49m\u001b[38;5;241;43m.\u001b[39;49m\u001b[43mtrace_function\u001b[49m\u001b[43m(\u001b[49m\n\u001b[1;32m    697\u001b[0m \u001b[43m    \u001b[49m\u001b[43margs\u001b[49m\u001b[43m,\u001b[49m\u001b[43m \u001b[49m\u001b[43mkwds\u001b[49m\u001b[43m,\u001b[49m\u001b[43m \u001b[49m\u001b[38;5;28;43mself\u001b[39;49m\u001b[38;5;241;43m.\u001b[39;49m\u001b[43m_variable_creation_config\u001b[49m\n\u001b[1;32m    698\u001b[0m \u001b[43m\u001b[49m\u001b[43m)\u001b[49m\n\u001b[1;32m    700\u001b[0m \u001b[38;5;28;01mdef\u001b[39;00m \u001b[38;5;21minvalid_creator_scope\u001b[39m(\u001b[38;5;241m*\u001b[39munused_args, \u001b[38;5;241m*\u001b[39m\u001b[38;5;241m*\u001b[39munused_kwds):\n\u001b[1;32m    701\u001b[0m \u001b[38;5;250m  \u001b[39m\u001b[38;5;124;03m\"\"\"Disables variable creation.\"\"\"\u001b[39;00m\n",
      "File \u001b[0;32m~/experiments/jax2onnx/env/lib/python3.11/site-packages/tensorflow/python/eager/polymorphic_function/tracing_compilation.py:178\u001b[0m, in \u001b[0;36mtrace_function\u001b[0;34m(args, kwargs, tracing_options)\u001b[0m\n\u001b[1;32m    175\u001b[0m     args \u001b[38;5;241m=\u001b[39m tracing_options\u001b[38;5;241m.\u001b[39minput_signature\n\u001b[1;32m    176\u001b[0m     kwargs \u001b[38;5;241m=\u001b[39m {}\n\u001b[0;32m--> 178\u001b[0m   concrete_function \u001b[38;5;241m=\u001b[39m \u001b[43m_maybe_define_function\u001b[49m\u001b[43m(\u001b[49m\n\u001b[1;32m    179\u001b[0m \u001b[43m      \u001b[49m\u001b[43margs\u001b[49m\u001b[43m,\u001b[49m\u001b[43m \u001b[49m\u001b[43mkwargs\u001b[49m\u001b[43m,\u001b[49m\u001b[43m \u001b[49m\u001b[43mtracing_options\u001b[49m\n\u001b[1;32m    180\u001b[0m \u001b[43m  \u001b[49m\u001b[43m)\u001b[49m\n\u001b[1;32m    182\u001b[0m \u001b[38;5;28;01mif\u001b[39;00m \u001b[38;5;129;01mnot\u001b[39;00m tracing_options\u001b[38;5;241m.\u001b[39mbind_graph_to_function:\n\u001b[1;32m    183\u001b[0m   concrete_function\u001b[38;5;241m.\u001b[39m_garbage_collector\u001b[38;5;241m.\u001b[39mrelease()  \u001b[38;5;66;03m# pylint: disable=protected-access\u001b[39;00m\n",
      "File \u001b[0;32m~/experiments/jax2onnx/env/lib/python3.11/site-packages/tensorflow/python/eager/polymorphic_function/tracing_compilation.py:283\u001b[0m, in \u001b[0;36m_maybe_define_function\u001b[0;34m(args, kwargs, tracing_options)\u001b[0m\n\u001b[1;32m    281\u001b[0m \u001b[38;5;28;01melse\u001b[39;00m:\n\u001b[1;32m    282\u001b[0m   target_func_type \u001b[38;5;241m=\u001b[39m lookup_func_type\n\u001b[0;32m--> 283\u001b[0m concrete_function \u001b[38;5;241m=\u001b[39m \u001b[43m_create_concrete_function\u001b[49m\u001b[43m(\u001b[49m\n\u001b[1;32m    284\u001b[0m \u001b[43m    \u001b[49m\u001b[43mtarget_func_type\u001b[49m\u001b[43m,\u001b[49m\u001b[43m \u001b[49m\u001b[43mlookup_func_context\u001b[49m\u001b[43m,\u001b[49m\u001b[43m \u001b[49m\u001b[43mfunc_graph\u001b[49m\u001b[43m,\u001b[49m\u001b[43m \u001b[49m\u001b[43mtracing_options\u001b[49m\n\u001b[1;32m    285\u001b[0m \u001b[43m\u001b[49m\u001b[43m)\u001b[49m\n\u001b[1;32m    287\u001b[0m \u001b[38;5;28;01mif\u001b[39;00m tracing_options\u001b[38;5;241m.\u001b[39mfunction_cache \u001b[38;5;129;01mis\u001b[39;00m \u001b[38;5;129;01mnot\u001b[39;00m \u001b[38;5;28;01mNone\u001b[39;00m:\n\u001b[1;32m    288\u001b[0m   tracing_options\u001b[38;5;241m.\u001b[39mfunction_cache\u001b[38;5;241m.\u001b[39madd(\n\u001b[1;32m    289\u001b[0m       concrete_function, current_func_context\n\u001b[1;32m    290\u001b[0m   )\n",
      "File \u001b[0;32m~/experiments/jax2onnx/env/lib/python3.11/site-packages/tensorflow/python/eager/polymorphic_function/tracing_compilation.py:310\u001b[0m, in \u001b[0;36m_create_concrete_function\u001b[0;34m(function_type, type_context, func_graph, tracing_options)\u001b[0m\n\u001b[1;32m    303\u001b[0m   placeholder_bound_args \u001b[38;5;241m=\u001b[39m function_type\u001b[38;5;241m.\u001b[39mplaceholder_arguments(\n\u001b[1;32m    304\u001b[0m       placeholder_context\n\u001b[1;32m    305\u001b[0m   )\n\u001b[1;32m    307\u001b[0m disable_acd \u001b[38;5;241m=\u001b[39m tracing_options\u001b[38;5;241m.\u001b[39mattributes \u001b[38;5;129;01mand\u001b[39;00m tracing_options\u001b[38;5;241m.\u001b[39mattributes\u001b[38;5;241m.\u001b[39mget(\n\u001b[1;32m    308\u001b[0m     attributes_lib\u001b[38;5;241m.\u001b[39mDISABLE_ACD, \u001b[38;5;28;01mFalse\u001b[39;00m\n\u001b[1;32m    309\u001b[0m )\n\u001b[0;32m--> 310\u001b[0m traced_func_graph \u001b[38;5;241m=\u001b[39m \u001b[43mfunc_graph_module\u001b[49m\u001b[38;5;241;43m.\u001b[39;49m\u001b[43mfunc_graph_from_py_func\u001b[49m\u001b[43m(\u001b[49m\n\u001b[1;32m    311\u001b[0m \u001b[43m    \u001b[49m\u001b[43mtracing_options\u001b[49m\u001b[38;5;241;43m.\u001b[39;49m\u001b[43mname\u001b[49m\u001b[43m,\u001b[49m\n\u001b[1;32m    312\u001b[0m \u001b[43m    \u001b[49m\u001b[43mtracing_options\u001b[49m\u001b[38;5;241;43m.\u001b[39;49m\u001b[43mpython_function\u001b[49m\u001b[43m,\u001b[49m\n\u001b[1;32m    313\u001b[0m \u001b[43m    \u001b[49m\u001b[43mplaceholder_bound_args\u001b[49m\u001b[38;5;241;43m.\u001b[39;49m\u001b[43margs\u001b[49m\u001b[43m,\u001b[49m\n\u001b[1;32m    314\u001b[0m \u001b[43m    \u001b[49m\u001b[43mplaceholder_bound_args\u001b[49m\u001b[38;5;241;43m.\u001b[39;49m\u001b[43mkwargs\u001b[49m\u001b[43m,\u001b[49m\n\u001b[1;32m    315\u001b[0m \u001b[43m    \u001b[49m\u001b[38;5;28;43;01mNone\u001b[39;49;00m\u001b[43m,\u001b[49m\n\u001b[1;32m    316\u001b[0m \u001b[43m    \u001b[49m\u001b[43mfunc_graph\u001b[49m\u001b[38;5;241;43m=\u001b[39;49m\u001b[43mfunc_graph\u001b[49m\u001b[43m,\u001b[49m\n\u001b[1;32m    317\u001b[0m \u001b[43m    \u001b[49m\u001b[43madd_control_dependencies\u001b[49m\u001b[38;5;241;43m=\u001b[39;49m\u001b[38;5;129;43;01mnot\u001b[39;49;00m\u001b[43m \u001b[49m\u001b[43mdisable_acd\u001b[49m\u001b[43m,\u001b[49m\n\u001b[1;32m    318\u001b[0m \u001b[43m    \u001b[49m\u001b[43marg_names\u001b[49m\u001b[38;5;241;43m=\u001b[39;49m\u001b[43mfunction_type_utils\u001b[49m\u001b[38;5;241;43m.\u001b[39;49m\u001b[43mto_arg_names\u001b[49m\u001b[43m(\u001b[49m\u001b[43mfunction_type\u001b[49m\u001b[43m)\u001b[49m\u001b[43m,\u001b[49m\n\u001b[1;32m    319\u001b[0m \u001b[43m    \u001b[49m\u001b[43mcreate_placeholders\u001b[49m\u001b[38;5;241;43m=\u001b[39;49m\u001b[38;5;28;43;01mFalse\u001b[39;49;00m\u001b[43m,\u001b[49m\n\u001b[1;32m    320\u001b[0m \u001b[43m\u001b[49m\u001b[43m)\u001b[49m\n\u001b[1;32m    322\u001b[0m transform\u001b[38;5;241m.\u001b[39mapply_func_graph_transforms(traced_func_graph)\n\u001b[1;32m    324\u001b[0m graph_capture_container \u001b[38;5;241m=\u001b[39m traced_func_graph\u001b[38;5;241m.\u001b[39mfunction_captures\n",
      "File \u001b[0;32m~/experiments/jax2onnx/env/lib/python3.11/site-packages/tensorflow/python/framework/func_graph.py:1059\u001b[0m, in \u001b[0;36mfunc_graph_from_py_func\u001b[0;34m(name, python_func, args, kwargs, signature, func_graph, add_control_dependencies, arg_names, op_return_value, collections, capture_by_value, create_placeholders)\u001b[0m\n\u001b[1;32m   1056\u001b[0m   \u001b[38;5;28;01mreturn\u001b[39;00m x\n\u001b[1;32m   1058\u001b[0m _, original_func \u001b[38;5;241m=\u001b[39m tf_decorator\u001b[38;5;241m.\u001b[39munwrap(python_func)\n\u001b[0;32m-> 1059\u001b[0m func_outputs \u001b[38;5;241m=\u001b[39m \u001b[43mpython_func\u001b[49m\u001b[43m(\u001b[49m\u001b[38;5;241;43m*\u001b[39;49m\u001b[43mfunc_args\u001b[49m\u001b[43m,\u001b[49m\u001b[43m \u001b[49m\u001b[38;5;241;43m*\u001b[39;49m\u001b[38;5;241;43m*\u001b[39;49m\u001b[43mfunc_kwargs\u001b[49m\u001b[43m)\u001b[49m\n\u001b[1;32m   1061\u001b[0m \u001b[38;5;66;03m# invariant: `func_outputs` contains only Tensors, CompositeTensors,\u001b[39;00m\n\u001b[1;32m   1062\u001b[0m \u001b[38;5;66;03m# TensorArrays and `None`s.\u001b[39;00m\n\u001b[1;32m   1063\u001b[0m func_outputs \u001b[38;5;241m=\u001b[39m variable_utils\u001b[38;5;241m.\u001b[39mconvert_variables_to_tensors(func_outputs)\n",
      "File \u001b[0;32m~/experiments/jax2onnx/env/lib/python3.11/site-packages/tensorflow/python/eager/polymorphic_function/polymorphic_function.py:599\u001b[0m, in \u001b[0;36mFunction._generate_scoped_tracing_options.<locals>.wrapped_fn\u001b[0;34m(*args, **kwds)\u001b[0m\n\u001b[1;32m    595\u001b[0m \u001b[38;5;28;01mwith\u001b[39;00m default_graph\u001b[38;5;241m.\u001b[39m_variable_creator_scope(scope, priority\u001b[38;5;241m=\u001b[39m\u001b[38;5;241m50\u001b[39m):  \u001b[38;5;66;03m# pylint: disable=protected-access\u001b[39;00m\n\u001b[1;32m    596\u001b[0m   \u001b[38;5;66;03m# __wrapped__ allows AutoGraph to swap in a converted function. We give\u001b[39;00m\n\u001b[1;32m    597\u001b[0m   \u001b[38;5;66;03m# the function a weak reference to itself to avoid a reference cycle.\u001b[39;00m\n\u001b[1;32m    598\u001b[0m   \u001b[38;5;28;01mwith\u001b[39;00m OptionalXlaContext(compile_with_xla):\n\u001b[0;32m--> 599\u001b[0m     out \u001b[38;5;241m=\u001b[39m \u001b[43mweak_wrapped_fn\u001b[49m\u001b[43m(\u001b[49m\u001b[43m)\u001b[49m\u001b[38;5;241;43m.\u001b[39;49m\u001b[43m__wrapped__\u001b[49m\u001b[43m(\u001b[49m\u001b[38;5;241;43m*\u001b[39;49m\u001b[43margs\u001b[49m\u001b[43m,\u001b[49m\u001b[43m \u001b[49m\u001b[38;5;241;43m*\u001b[39;49m\u001b[38;5;241;43m*\u001b[39;49m\u001b[43mkwds\u001b[49m\u001b[43m)\u001b[49m\n\u001b[1;32m    600\u001b[0m   \u001b[38;5;28;01mreturn\u001b[39;00m out\n",
      "File \u001b[0;32m~/experiments/jax2onnx/env/lib/python3.11/site-packages/jax/experimental/jax2tf/jax2tf.py:437\u001b[0m, in \u001b[0;36mconvert.<locals>.converted_fun_tf\u001b[0;34m(*args_tf, **kwargs_tf)\u001b[0m\n\u001b[1;32m    426\u001b[0m     outs_tf, outs_avals, outs_tree \u001b[38;5;241m=\u001b[39m impl\u001b[38;5;241m.\u001b[39mrun_fun_tf(args_flat_tf)\n\u001b[1;32m    427\u001b[0m     \u001b[38;5;28;01mreturn\u001b[39;00m (\u001b[38;5;28mtuple\u001b[39m(outs_tf),\n\u001b[1;32m    428\u001b[0m             _make_custom_gradient_fn_tf(\n\u001b[1;32m    429\u001b[0m                 fun_jax,\n\u001b[0;32m   (...)\u001b[0m\n\u001b[1;32m    434\u001b[0m                 outs_avals\u001b[38;5;241m=\u001b[39mouts_avals,\n\u001b[1;32m    435\u001b[0m                 outs_tf\u001b[38;5;241m=\u001b[39mouts_tf))\n\u001b[0;32m--> 437\u001b[0m   outs_flat_tf \u001b[38;5;241m=\u001b[39m \u001b[43mconverted_fun_flat_with_custom_gradient_tf\u001b[49m\u001b[43m(\u001b[49m\u001b[38;5;241;43m*\u001b[39;49m\u001b[43margs_flat_tf\u001b[49m\u001b[43m)\u001b[49m\n\u001b[1;32m    438\u001b[0m \u001b[38;5;28;01melse\u001b[39;00m:\n\u001b[1;32m    439\u001b[0m   outs_tf, _, outs_tree \u001b[38;5;241m=\u001b[39m impl\u001b[38;5;241m.\u001b[39mrun_fun_tf(args_flat_tf)\n",
      "File \u001b[0;32m~/experiments/jax2onnx/env/lib/python3.11/site-packages/tensorflow/python/ops/custom_gradient.py:339\u001b[0m, in \u001b[0;36mBind.__call__\u001b[0;34m(self, *a, **k)\u001b[0m\n\u001b[1;32m    338\u001b[0m \u001b[38;5;28;01mdef\u001b[39;00m \u001b[38;5;21m__call__\u001b[39m(\u001b[38;5;28mself\u001b[39m, \u001b[38;5;241m*\u001b[39ma, \u001b[38;5;241m*\u001b[39m\u001b[38;5;241m*\u001b[39mk):\n\u001b[0;32m--> 339\u001b[0m   \u001b[38;5;28;01mreturn\u001b[39;00m \u001b[38;5;28;43mself\u001b[39;49m\u001b[38;5;241;43m.\u001b[39;49m\u001b[43m_d\u001b[49m\u001b[43m(\u001b[49m\u001b[38;5;28;43mself\u001b[39;49m\u001b[38;5;241;43m.\u001b[39;49m\u001b[43m_f\u001b[49m\u001b[43m,\u001b[49m\u001b[43m \u001b[49m\u001b[43ma\u001b[49m\u001b[43m,\u001b[49m\u001b[43m \u001b[49m\u001b[43mk\u001b[49m\u001b[43m)\u001b[49m\n",
      "File \u001b[0;32m~/experiments/jax2onnx/env/lib/python3.11/site-packages/tensorflow/python/ops/custom_gradient.py:295\u001b[0m, in \u001b[0;36mcustom_gradient.<locals>.decorated\u001b[0;34m(wrapped, args, kwargs)\u001b[0m\n\u001b[1;32m    293\u001b[0m   \u001b[38;5;28;01mreturn\u001b[39;00m _eager_mode_decorator(wrapped, args, kwargs)\n\u001b[1;32m    294\u001b[0m \u001b[38;5;28;01melse\u001b[39;00m:\n\u001b[0;32m--> 295\u001b[0m   \u001b[38;5;28;01mreturn\u001b[39;00m \u001b[43m_graph_mode_decorator\u001b[49m\u001b[43m(\u001b[49m\u001b[43mwrapped\u001b[49m\u001b[43m,\u001b[49m\u001b[43m \u001b[49m\u001b[43margs\u001b[49m\u001b[43m,\u001b[49m\u001b[43m \u001b[49m\u001b[43mkwargs\u001b[49m\u001b[43m)\u001b[49m\n",
      "File \u001b[0;32m~/experiments/jax2onnx/env/lib/python3.11/site-packages/tensorflow/python/ops/custom_gradient.py:421\u001b[0m, in \u001b[0;36m_graph_mode_decorator\u001b[0;34m(f, args, kwargs)\u001b[0m\n\u001b[1;32m    416\u001b[0m before_vars \u001b[38;5;241m=\u001b[39m \u001b[38;5;28mset\u001b[39m([\n\u001b[1;32m    417\u001b[0m     v\u001b[38;5;241m.\u001b[39mref() \u001b[38;5;28;01mfor\u001b[39;00m v \u001b[38;5;129;01min\u001b[39;00m current_var_scope\u001b[38;5;241m.\u001b[39mglobal_variables() \u001b[38;5;241m+\u001b[39m\n\u001b[1;32m    418\u001b[0m     current_var_scope\u001b[38;5;241m.\u001b[39mlocal_variables()\n\u001b[1;32m    419\u001b[0m ])\n\u001b[1;32m    420\u001b[0m \u001b[38;5;28;01mwith\u001b[39;00m record\u001b[38;5;241m.\u001b[39mVariableWatcher() \u001b[38;5;28;01mas\u001b[39;00m variable_watcher:\n\u001b[0;32m--> 421\u001b[0m   result, grad_fn \u001b[38;5;241m=\u001b[39m \u001b[43mf\u001b[49m\u001b[43m(\u001b[49m\u001b[38;5;241;43m*\u001b[39;49m\u001b[43margs\u001b[49m\u001b[43m)\u001b[49m\n\u001b[1;32m    423\u001b[0m flat_args \u001b[38;5;241m=\u001b[39m composite_tensor_gradient\u001b[38;5;241m.\u001b[39mget_flat_tensors_for_gradients(\n\u001b[1;32m    424\u001b[0m     nest\u001b[38;5;241m.\u001b[39mflatten(args))\n\u001b[1;32m    425\u001b[0m flat_result \u001b[38;5;241m=\u001b[39m composite_tensor_gradient\u001b[38;5;241m.\u001b[39mget_flat_tensors_for_gradients(\n\u001b[1;32m    426\u001b[0m     nest\u001b[38;5;241m.\u001b[39mflatten(result))\n",
      "File \u001b[0;32m~/experiments/jax2onnx/env/lib/python3.11/site-packages/jax/experimental/jax2tf/jax2tf.py:426\u001b[0m, in \u001b[0;36mconvert.<locals>.converted_fun_tf.<locals>.converted_fun_flat_with_custom_gradient_tf\u001b[0;34m(*args_flat_tf)\u001b[0m\n\u001b[1;32m    423\u001b[0m \u001b[38;5;129m@tf\u001b[39m\u001b[38;5;241m.\u001b[39mcustom_gradient\n\u001b[1;32m    424\u001b[0m \u001b[38;5;28;01mdef\u001b[39;00m \u001b[38;5;21mconverted_fun_flat_with_custom_gradient_tf\u001b[39m(\u001b[38;5;241m*\u001b[39margs_flat_tf: TfVal) \u001b[38;5;241m-\u001b[39m\u001b[38;5;241m>\u001b[39m TfVal:\n\u001b[1;32m    425\u001b[0m   \u001b[38;5;28;01mnonlocal\u001b[39;00m outs_tree\n\u001b[0;32m--> 426\u001b[0m   outs_tf, outs_avals, outs_tree \u001b[38;5;241m=\u001b[39m \u001b[43mimpl\u001b[49m\u001b[38;5;241;43m.\u001b[39;49m\u001b[43mrun_fun_tf\u001b[49m\u001b[43m(\u001b[49m\u001b[43margs_flat_tf\u001b[49m\u001b[43m)\u001b[49m\n\u001b[1;32m    427\u001b[0m   \u001b[38;5;28;01mreturn\u001b[39;00m (\u001b[38;5;28mtuple\u001b[39m(outs_tf),\n\u001b[1;32m    428\u001b[0m           _make_custom_gradient_fn_tf(\n\u001b[1;32m    429\u001b[0m               fun_jax,\n\u001b[0;32m   (...)\u001b[0m\n\u001b[1;32m    434\u001b[0m               outs_avals\u001b[38;5;241m=\u001b[39mouts_avals,\n\u001b[1;32m    435\u001b[0m               outs_tf\u001b[38;5;241m=\u001b[39mouts_tf))\n",
      "File \u001b[0;32m~/experiments/jax2onnx/env/lib/python3.11/site-packages/jax/experimental/jax2tf/jax2tf.py:598\u001b[0m, in \u001b[0;36mGraphSerializationImpl.run_fun_tf\u001b[0;34m(self, args_flat_tf)\u001b[0m\n\u001b[1;32m    596\u001b[0m fun_flat_jax, out_tree_thunk \u001b[38;5;241m=\u001b[39m flatten_fun_jax(\u001b[38;5;28mself\u001b[39m\u001b[38;5;241m.\u001b[39mfun_jax, \u001b[38;5;28mself\u001b[39m\u001b[38;5;241m.\u001b[39min_tree)\n\u001b[1;32m    597\u001b[0m \u001b[38;5;66;03m# out_tree_thunk will be ready after we _interpret_fun_jax below\u001b[39;00m\n\u001b[0;32m--> 598\u001b[0m outs_tf, \u001b[38;5;28mself\u001b[39m\u001b[38;5;241m.\u001b[39mouts_avals \u001b[38;5;241m=\u001b[39m \u001b[43m_interpret_fun_jax\u001b[49m\u001b[43m(\u001b[49m\n\u001b[1;32m    599\u001b[0m \u001b[43m    \u001b[49m\u001b[43mfun_flat_jax\u001b[49m\u001b[43m,\u001b[49m\n\u001b[1;32m    600\u001b[0m \u001b[43m    \u001b[49m\u001b[43margs_flat_tf\u001b[49m\u001b[43m,\u001b[49m\u001b[43m \u001b[49m\u001b[38;5;28;43mself\u001b[39;49m\u001b[38;5;241;43m.\u001b[39;49m\u001b[43margs_avals_flat\u001b[49m\u001b[43m,\u001b[49m\n\u001b[1;32m    601\u001b[0m \u001b[43m    \u001b[49m\u001b[38;5;28;43mself\u001b[39;49m\u001b[38;5;241;43m.\u001b[39;49m\u001b[43mname_stack\u001b[49m\u001b[43m,\u001b[49m\n\u001b[1;32m    602\u001b[0m \u001b[43m    \u001b[49m\u001b[43mfresh_constant_cache\u001b[49m\u001b[38;5;241;43m=\u001b[39;49m\u001b[38;5;28;43;01mTrue\u001b[39;49;00m\u001b[43m)\u001b[49m\n\u001b[1;32m    603\u001b[0m \u001b[38;5;28;01mreturn\u001b[39;00m outs_tf, \u001b[38;5;28mself\u001b[39m\u001b[38;5;241m.\u001b[39mouts_avals, out_tree_thunk()\n",
      "File \u001b[0;32m~/experiments/jax2onnx/env/lib/python3.11/site-packages/jax/experimental/jax2tf/jax2tf.py:820\u001b[0m, in \u001b[0;36m_interpret_fun_jax\u001b[0;34m(fun_jax, args_tf, args_avals, extra_name_stack, fresh_constant_cache)\u001b[0m\n\u001b[1;32m    817\u001b[0m   \u001b[38;5;28;01mwith\u001b[39;00m _extended_name_stack(extra_name_stack):\n\u001b[1;32m    818\u001b[0m     \u001b[38;5;28;01mwith\u001b[39;00m core\u001b[38;5;241m.\u001b[39mnew_sublevel():\n\u001b[1;32m    819\u001b[0m       out_vals: Sequence[\u001b[38;5;28mtuple\u001b[39m[TfVal, core\u001b[38;5;241m.\u001b[39mShapedArray]] \u001b[38;5;241m=\u001b[39m \\\n\u001b[0;32m--> 820\u001b[0m           \u001b[43m_call_wrapped_with_new_constant_cache\u001b[49m\u001b[43m(\u001b[49m\u001b[43msubtrace_fun\u001b[49m\u001b[43m,\u001b[49m\u001b[43m \u001b[49m\u001b[43margs_tf\u001b[49m\u001b[43m,\u001b[49m\n\u001b[1;32m    821\u001b[0m \u001b[43m                                                \u001b[49m\u001b[43mfresh_constant_cache\u001b[49m\u001b[38;5;241;43m=\u001b[39;49m\u001b[43mfresh_constant_cache\u001b[49m\u001b[43m)\u001b[49m\n\u001b[1;32m    822\u001b[0m     \u001b[38;5;28;01mdel\u001b[39;00m main\n\u001b[1;32m    824\u001b[0m \u001b[38;5;28;01mreturn\u001b[39;00m util\u001b[38;5;241m.\u001b[39munzip2(out_vals)\n",
      "File \u001b[0;32m~/experiments/jax2onnx/env/lib/python3.11/site-packages/jax/experimental/jax2tf/jax2tf.py:954\u001b[0m, in \u001b[0;36m_call_wrapped_with_new_constant_cache\u001b[0;34m(fun, in_vals, fresh_constant_cache)\u001b[0m\n\u001b[1;32m    951\u001b[0m   \u001b[38;5;28;01melse\u001b[39;00m:\n\u001b[1;32m    952\u001b[0m     prev_constant_cache_keys \u001b[38;5;241m=\u001b[39m \u001b[38;5;28mset\u001b[39m(prev_constant_cache\u001b[38;5;241m.\u001b[39mkeys()) \u001b[38;5;28;01mif\u001b[39;00m prev_constant_cache \u001b[38;5;129;01mis\u001b[39;00m \u001b[38;5;129;01mnot\u001b[39;00m \u001b[38;5;28;01mNone\u001b[39;00m \u001b[38;5;28;01melse\u001b[39;00m \u001b[38;5;28mset\u001b[39m()\n\u001b[1;32m    953\u001b[0m   out_vals: Sequence[\u001b[38;5;28mtuple\u001b[39m[TfVal, core\u001b[38;5;241m.\u001b[39mShapedArray]] \u001b[38;5;241m=\u001b[39m \\\n\u001b[0;32m--> 954\u001b[0m       \u001b[43mfun\u001b[49m\u001b[38;5;241;43m.\u001b[39;49m\u001b[43mcall_wrapped\u001b[49m\u001b[43m(\u001b[49m\u001b[38;5;241;43m*\u001b[39;49m\u001b[43min_vals\u001b[49m\u001b[43m)\u001b[49m\n\u001b[1;32m    955\u001b[0m \u001b[38;5;28;01mfinally\u001b[39;00m:\n\u001b[1;32m    956\u001b[0m   \u001b[38;5;28;01mif\u001b[39;00m (\u001b[38;5;129;01mnot\u001b[39;00m fresh_constant_cache \u001b[38;5;129;01mand\u001b[39;00m\n\u001b[1;32m    957\u001b[0m       prev_constant_cache \u001b[38;5;129;01mis\u001b[39;00m \u001b[38;5;129;01mnot\u001b[39;00m \u001b[38;5;28;01mNone\u001b[39;00m \u001b[38;5;129;01mand\u001b[39;00m\n\u001b[1;32m    958\u001b[0m       _WRAP_JAX_JIT_WITH_TF_FUNCTION):\n",
      "File \u001b[0;32m~/experiments/jax2onnx/env/lib/python3.11/site-packages/jax/_src/linear_util.py:192\u001b[0m, in \u001b[0;36mWrappedFun.call_wrapped\u001b[0;34m(self, *args, **kwargs)\u001b[0m\n\u001b[1;32m    189\u001b[0m gen \u001b[38;5;241m=\u001b[39m gen_static_args \u001b[38;5;241m=\u001b[39m out_store \u001b[38;5;241m=\u001b[39m \u001b[38;5;28;01mNone\u001b[39;00m\n\u001b[1;32m    191\u001b[0m \u001b[38;5;28;01mtry\u001b[39;00m:\n\u001b[0;32m--> 192\u001b[0m   ans \u001b[38;5;241m=\u001b[39m \u001b[38;5;28;43mself\u001b[39;49m\u001b[38;5;241;43m.\u001b[39;49m\u001b[43mf\u001b[49m\u001b[43m(\u001b[49m\u001b[38;5;241;43m*\u001b[39;49m\u001b[43margs\u001b[49m\u001b[43m,\u001b[49m\u001b[43m \u001b[49m\u001b[38;5;241;43m*\u001b[39;49m\u001b[38;5;241;43m*\u001b[39;49m\u001b[38;5;28;43mdict\u001b[39;49m\u001b[43m(\u001b[49m\u001b[38;5;28;43mself\u001b[39;49m\u001b[38;5;241;43m.\u001b[39;49m\u001b[43mparams\u001b[49m\u001b[43m,\u001b[49m\u001b[43m \u001b[49m\u001b[38;5;241;43m*\u001b[39;49m\u001b[38;5;241;43m*\u001b[39;49m\u001b[43mkwargs\u001b[49m\u001b[43m)\u001b[49m\u001b[43m)\u001b[49m\n\u001b[1;32m    193\u001b[0m \u001b[38;5;28;01mexcept\u001b[39;00m:\n\u001b[1;32m    194\u001b[0m   \u001b[38;5;66;03m# Some transformations yield from inside context managers, so we have to\u001b[39;00m\n\u001b[1;32m    195\u001b[0m   \u001b[38;5;66;03m# interrupt them before reraising the exception. Otherwise they will only\u001b[39;00m\n\u001b[1;32m    196\u001b[0m   \u001b[38;5;66;03m# get garbage-collected at some later time, running their cleanup tasks\u001b[39;00m\n\u001b[1;32m    197\u001b[0m   \u001b[38;5;66;03m# only after this exception is handled, which can corrupt the global\u001b[39;00m\n\u001b[1;32m    198\u001b[0m   \u001b[38;5;66;03m# state.\u001b[39;00m\n\u001b[1;32m    199\u001b[0m   \u001b[38;5;28;01mwhile\u001b[39;00m stack:\n",
      "File \u001b[0;32m~/experiments/jax2onnx/env/lib/python3.11/site-packages/jax/experimental/jax2tf/jax2tf.py:709\u001b[0m, in \u001b[0;36mflatten_fun_jax.<locals>.fun_flat_jax\u001b[0;34m(*args_flat_jax)\u001b[0m\n\u001b[1;32m    707\u001b[0m \u001b[38;5;28;01mdef\u001b[39;00m \u001b[38;5;21mfun_flat_jax\u001b[39m(\u001b[38;5;241m*\u001b[39margs_flat_jax):\n\u001b[1;32m    708\u001b[0m   tree_args, tree_kwargs \u001b[38;5;241m=\u001b[39m tree_util\u001b[38;5;241m.\u001b[39mtree_unflatten(in_tree, args_flat_jax)\n\u001b[0;32m--> 709\u001b[0m   tree_res \u001b[38;5;241m=\u001b[39m \u001b[43mfun_jax\u001b[49m\u001b[43m(\u001b[49m\u001b[38;5;241;43m*\u001b[39;49m\u001b[43mtree_args\u001b[49m\u001b[43m,\u001b[49m\u001b[43m \u001b[49m\u001b[38;5;241;43m*\u001b[39;49m\u001b[38;5;241;43m*\u001b[39;49m\u001b[43mtree_kwargs\u001b[49m\u001b[43m)\u001b[49m\n\u001b[1;32m    710\u001b[0m   res_flat_jax, out_tree \u001b[38;5;241m=\u001b[39m tree_util\u001b[38;5;241m.\u001b[39mtree_flatten(tree_res)\n\u001b[1;32m    711\u001b[0m   \u001b[38;5;28;01mnonlocal\u001b[39;00m out_tree_ref\n",
      "Cell \u001b[0;32mIn[60], line 6\u001b[0m, in \u001b[0;36mf_jax3\u001b[0;34m(a, lst)\u001b[0m\n\u001b[1;32m      4\u001b[0m \u001b[38;5;28;01mfor\u001b[39;00m l \u001b[38;5;129;01min\u001b[39;00m lst:\n\u001b[1;32m      5\u001b[0m     \u001b[38;5;28mprint\u001b[39m(l)\n\u001b[0;32m----> 6\u001b[0m     b\u001b[38;5;241m.\u001b[39mappend(\u001b[43ma\u001b[49m\u001b[43m[\u001b[49m\u001b[43ml\u001b[49m\u001b[43m]\u001b[49m)\n\u001b[1;32m      7\u001b[0m \u001b[38;5;28;01mreturn\u001b[39;00m b\n",
      "File \u001b[0;32m~/experiments/jax2onnx/env/lib/python3.11/site-packages/jax/_src/core.py:778\u001b[0m, in \u001b[0;36mTracer.__index__\u001b[0;34m(self)\u001b[0m\n\u001b[1;32m    776\u001b[0m \u001b[38;5;28;01mdef\u001b[39;00m \u001b[38;5;21m__index__\u001b[39m(\u001b[38;5;28mself\u001b[39m):\n\u001b[1;32m    777\u001b[0m   check_integer_conversion(\u001b[38;5;28mself\u001b[39m)\n\u001b[0;32m--> 778\u001b[0m   \u001b[38;5;28;01mraise\u001b[39;00m \u001b[38;5;28;43mself\u001b[39;49m\u001b[38;5;241;43m.\u001b[39;49m\u001b[43maval\u001b[49m\u001b[38;5;241;43m.\u001b[39;49m\u001b[43m_index\u001b[49m\u001b[43m(\u001b[49m\u001b[38;5;28;43mself\u001b[39;49m\u001b[43m)\u001b[49m\n",
      "File \u001b[0;32m~/experiments/jax2onnx/env/lib/python3.11/site-packages/jax/_src/core.py:1520\u001b[0m, in \u001b[0;36mconcretization_function_error.<locals>.error\u001b[0;34m(self, arg)\u001b[0m\n\u001b[1;32m   1519\u001b[0m \u001b[38;5;28;01mdef\u001b[39;00m \u001b[38;5;21merror\u001b[39m(\u001b[38;5;28mself\u001b[39m, arg):\n\u001b[0;32m-> 1520\u001b[0m   \u001b[38;5;28;01mraise\u001b[39;00m TracerIntegerConversionError(arg)\n",
      "\u001b[0;31mTracerIntegerConversionError\u001b[0m: The __index__() method was called on traced array with shape int32[].\nSee https://jax.readthedocs.io/en/latest/errors.html#jax.errors.TracerIntegerConversionError"
     ]
    }
   ],
   "source": [
    "def f_jax3(a, lst):\n",
    "    b = []\n",
    "    print(lst)\n",
    "    for l in lst:\n",
    "        print(l)\n",
    "        b.append(a[l])\n",
    "    return b \n",
    "\n",
    "# Convert JAX functions to TensorFlow functions\n",
    "# enable_xla is set to False to ensure that XLA compilation is disabled for compatibility with tf2onnx\n",
    "f_tf3 = jax2tf.convert(f_jax3, enable_xla=False)\n",
    "\n",
    "# Convert the combined function to a TensorFlow graph\n",
    "function_graph = tf.function(f_tf3, autograph=False)\n",
    "\n",
    "# Export the model to ONNX\n",
    "input_signature = [\n",
    "        [tf.TensorSpec(shape=(3), dtype=tf.float32), tf.TensorSpec(shape=(3), dtype=tf.float32)], \n",
    "        [], \n",
    "        #tf.TensorSpec([3], dtype=tf.int32),  \n",
    "    ]\n",
    "\n",
    "# Export the module to ONNX\n",
    "inference_onnx, _ = tf2onnx.convert.from_function(function_graph, input_signature=input_signature)\n",
    "\n",
    "onnx_model_path = \"trial.onnx\"\n",
    "with open(onnx_model_path, \"wb\") as f:\n",
    "    f.write(inference_onnx.SerializeToString())\n",
    "\n",
    "\n",
    "from onnxsim import simplify\n",
    "\n",
    "# Load your ONNX model\n",
    "model = onnx.load(onnx_model_path)\n",
    "\n",
    "# Simplify the model\n",
    "model_simp, check = simplify(model)\n",
    "\n",
    "# Ensure the simplified model is valid\n",
    "assert check, \"Simplified ONNX model could not be validated\"\n",
    "\n",
    "# Save the simplified model\n",
    "simplified_model_path = \"path_to_simplified_model.onnx\"\n",
    "onnx.save(model_simp, simplified_model_path)\n",
    "\n",
    "print(f\"Simplified model saved at: {simplified_model_path}\")\n",
    "\n",
    "import netron\n",
    "netron.start(simplified_model_path)"
   ]
  },
  {
   "cell_type": "code",
   "execution_count": 53,
   "id": "40627a8b-0566-4282-95c0-a338afc966b1",
   "metadata": {},
   "outputs": [],
   "source": [
    "\n",
    "# Define the JAX function\n",
    "def f_jax3(a, lst):\n",
    "    return a[lst]\n",
    "\n",
    "# Convert the JAX function to TensorFlow\n",
    "f_tf3 = jax2tf.convert(f_jax3, enable_xla=False)\n",
    "\n",
    "# Create a TensorFlow function graph\n",
    "function_graph = tf.function(f_tf3, autograph=False)\n",
    "\n",
    "# Define the input signature for TensorFlow\n",
    "input_signature = [\n",
    "    tf.TensorSpec(shape=(3,), dtype=tf.float32),  # Shape of 'a'\n",
    "    tf.TensorSpec(shape=(3,), dtype=tf.int32)     # Shape of 'lst'\n",
    "]\n",
    "\n",
    "# Create the concrete function\n",
    "inference_onnx, _ = tf2onnx.convert.from_function(function_graph, input_signature=input_signature)\n",
    "\n",
    "# Save the ONNX model to a file\n",
    "with open(\"f_jax3.onnx\", \"wb\") as f:\n",
    "    f.write(inference_onnx.SerializeToString())"
   ]
  },
  {
   "cell_type": "code",
   "execution_count": null,
   "id": "d9c56e08-a7c0-4efe-9837-01065ab602ae",
   "metadata": {},
   "outputs": [],
   "source": []
  }
 ],
 "metadata": {
  "kernelspec": {
   "display_name": "Python 3 (ipykernel)",
   "language": "python",
   "name": "python3"
  },
  "language_info": {
   "codemirror_mode": {
    "name": "ipython",
    "version": 3
   },
   "file_extension": ".py",
   "mimetype": "text/x-python",
   "name": "python",
   "nbconvert_exporter": "python",
   "pygments_lexer": "ipython3",
   "version": "3.11.9"
  }
 },
 "nbformat": 4,
 "nbformat_minor": 5
}
